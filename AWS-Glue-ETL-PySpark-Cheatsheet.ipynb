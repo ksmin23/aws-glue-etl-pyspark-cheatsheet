{
 "cells": [
  {
   "cell_type": "markdown",
   "metadata": {},
   "source": [
    "# 환경 설정\n",
    "\n",
    "AWS Glue 도커 이미지를 다운로드 한다.<br/>\n",
    "\n",
    "`\n",
    "$ docker --version\n",
    "Docker version 19.03.13, build 4484c46d9d\n",
    "$ docker pull amazon/aws-glue-libs:glue_libs_1.0.0_image_01\n",
    "`\n",
    "\n",
    "Jupyter notebook을 실행하기 위해서, 다음과 같이 도커를 실행한다.\n",
    "\n",
    "\n",
    "`\n",
    "$ docker run -itd -p 8888:8888 \\\n",
    "  -p 4040:4040 \\\n",
    "  -v ~/.aws:/root/.aws:ro \\\n",
    "  --name glue_jupyter \\\n",
    "  amazon/aws-glue-libs:glue_libs_1.0.0_image_01 \\\n",
    "  /home/jupyter/jupyter_start.sh\n",
    "`\n",
    "\n",
    "`localhost:8888` 주소로 브라우저에서 접속하면, Jupyter Notebook이 정상적으로 실행되는지 확인한다."
   ]
  },
  {
   "cell_type": "markdown",
   "metadata": {},
   "source": [
    "### Jupyter Notebook Autocomplete 기능 설정\n",
    "\n",
    "Jupyter Notebook에서 Autocomplete 기능을 사용하기 위해서 __[jupyter-tabnine](https://github.com/wenmin-wu/jupyter-tabnine)__를 설치한다.\n",
    "\n",
    "<ol>\n",
    "<li> <b>glue_jupyter</b> 도커 컨테이너에 접속한다.\n",
    "    \n",
    "`\n",
    "$ docker exec -it glue_jupyter bash\n",
    "root@9b55fff7063f:/#\n",
    "root@9b55fff7063f:/# python3 --version\n",
    "Python 3.6.10\n",
    "`\n",
    "\n",
    "<li> 도커 컨테이너에서 다음 명령어를 실행해서 <b>jupyter-tabnine</b>을 설치한다.\n",
    "\n",
    "\n",
    "> pip3 install jupyter-tabnine <br/>\n",
    "> jupyter nbextension install --py jupyter_tabnine  <br/>\n",
    "> jupyter nbextension enable --py jupyter_tabnine  <br/>\n",
    "> jupyter serverextension enable --py jupyter_tabnine  <br/>\n",
    "\n",
    "\n",
    "예를 들어, 아래와 같이 위의 명령어를 순서대로 실행한다.\n",
    "\n",
    "`\n",
    "root@9b55fff7063f:/# pip3 install jupyter-tabnine\n",
    "root@9b55fff7063f:/# jupyter nbextension install --py jupyter_tabnine\n",
    "root@9b55fff7063f:/# jupyter nbextension enable --py jupyter_tabnine\n",
    "root@9b55fff7063f:/# jupyter serverextension enable --py jupyter_tabnine\n",
    "`\n",
    "\n",
    "</ol>"
   ]
  },
  {
   "cell_type": "markdown",
   "metadata": {},
   "source": [
    "# 실습 하기\n",
    "\n",
    "이 노트북을 도커 컨터네이너로 복사한다.\n",
    "\n",
    "`\n",
    "$ docker cp AWS-Glue-ETL-PySpark-Cheatsheet.ipynb glue_jupyter:/home/jupyter/jupyter_default_dir/\n",
    "$ docker exec glue_jupyter ls /home/jupyter/jupyter_default_dir/\n",
    "AWS-Glue-ETL-PySpark-Cheatsheet.ipynb\n",
    "`\n"
   ]
  },
  {
   "cell_type": "code",
   "execution_count": 1,
   "metadata": {},
   "outputs": [
    {
     "name": "stdout",
     "output_type": "stream",
     "text": [
      "Starting Spark application\n"
     ]
    },
    {
     "data": {
      "text/html": [
       "<table>\n",
       "<tr><th>ID</th><th>YARN Application ID</th><th>Kind</th><th>State</th><th>Spark UI</th><th>Driver log</th><th>Current session?</th></tr><tr><td>0</td><td>None</td><td>pyspark</td><td>idle</td><td></td><td></td><td>✔</td></tr></table>"
      ],
      "text/plain": [
       "<IPython.core.display.HTML object>"
      ]
     },
     "metadata": {},
     "output_type": "display_data"
    },
    {
     "data": {
      "application/vnd.jupyter.widget-view+json": {
       "model_id": "",
       "version_major": 2,
       "version_minor": 0
      },
      "text/plain": [
       "FloatProgress(value=0.0, bar_style='info', description='Progress:', layout=Layout(height='25px', width='50%'),…"
      ]
     },
     "metadata": {},
     "output_type": "display_data"
    },
    {
     "name": "stdout",
     "output_type": "stream",
     "text": [
      "SparkSession available as 'spark'.\n"
     ]
    },
    {
     "data": {
      "application/vnd.jupyter.widget-view+json": {
       "model_id": "",
       "version_major": 2,
       "version_minor": 0
      },
      "text/plain": [
       "FloatProgress(value=0.0, bar_style='info', description='Progress:', layout=Layout(height='25px', width='50%'),…"
      ]
     },
     "metadata": {},
     "output_type": "display_data"
    }
   ],
   "source": [
    "import warnings\n",
    "\n",
    "# 경고 메시지를 무시하고 숨기기\n",
    "warnings.filterwarnings(action='ignore')"
   ]
  },
  {
   "cell_type": "markdown",
   "metadata": {},
   "source": [
    "### Importing GlueContext"
   ]
  },
  {
   "cell_type": "code",
   "execution_count": 2,
   "metadata": {
    "scrolled": true
   },
   "outputs": [
    {
     "data": {
      "application/vnd.jupyter.widget-view+json": {
       "model_id": "",
       "version_major": 2,
       "version_minor": 0
      },
      "text/plain": [
       "FloatProgress(value=0.0, bar_style='info', description='Progress:', layout=Layout(height='25px', width='50%'),…"
      ]
     },
     "metadata": {},
     "output_type": "display_data"
    }
   ],
   "source": [
    "import sys\n",
    "from pyspark.context import SparkContext\n",
    "from awsglue.context import GlueContext\n",
    "from awsglue.transforms import *\n",
    "from awsglue.dynamicframe import DynamicFrame\n",
    "from pyspark.sql.types import *\n",
    "from pyspark.sql import Row"
   ]
  },
  {
   "cell_type": "code",
   "execution_count": 3,
   "metadata": {},
   "outputs": [
    {
     "data": {
      "application/vnd.jupyter.widget-view+json": {
       "model_id": "",
       "version_major": 2,
       "version_minor": 0
      },
      "text/plain": [
       "FloatProgress(value=0.0, bar_style='info', description='Progress:', layout=Layout(height='25px', width='50%'),…"
      ]
     },
     "metadata": {},
     "output_type": "display_data"
    }
   ],
   "source": [
    "glueContext = GlueContext(SparkContext.getOrCreate())"
   ]
  },
  {
   "cell_type": "markdown",
   "metadata": {},
   "source": [
    "### Dataset 1"
   ]
  },
  {
   "cell_type": "code",
   "execution_count": 4,
   "metadata": {},
   "outputs": [
    {
     "data": {
      "application/vnd.jupyter.widget-view+json": {
       "model_id": "",
       "version_major": 2,
       "version_minor": 0
      },
      "text/plain": [
       "FloatProgress(value=0.0, bar_style='info', description='Progress:', layout=Layout(height='25px', width='50%'),…"
      ]
     },
     "metadata": {},
     "output_type": "display_data"
    }
   ],
   "source": [
    "order_list = [\n",
    "               ['1005', '623', 'YES', '1418901234', '75091'],\n",
    "               ['1006', '547', 'NO',  '1418901256', '75034'],\n",
    "               ['1007', '823', 'YES', '1418901300', '75023'],\n",
    "               ['1008', '912', 'NO',  '1418901400', '82091'],\n",
    "               ['1009', '321', 'YES', '1418902000', '90093']\n",
    "             ]"
   ]
  },
  {
   "cell_type": "code",
   "execution_count": 5,
   "metadata": {},
   "outputs": [
    {
     "data": {
      "application/vnd.jupyter.widget-view+json": {
       "model_id": "",
       "version_major": 2,
       "version_minor": 0
      },
      "text/plain": [
       "FloatProgress(value=0.0, bar_style='info', description='Progress:', layout=Layout(height='25px', width='50%'),…"
      ]
     },
     "metadata": {},
     "output_type": "display_data"
    }
   ],
   "source": [
    "# Define schema for the order_list\n",
    "order_schema = StructType([  \n",
    "                      StructField(\"order_id\", StringType()),\n",
    "                      StructField(\"customer_id\", StringType()),\n",
    "                      StructField(\"essential_item\", StringType()),\n",
    "                      StructField(\"timestamp\", StringType()),\n",
    "                      StructField(\"zipcode\", StringType())\n",
    "                    ])"
   ]
  },
  {
   "cell_type": "code",
   "execution_count": 6,
   "metadata": {},
   "outputs": [
    {
     "data": {
      "application/vnd.jupyter.widget-view+json": {
       "model_id": "",
       "version_major": 2,
       "version_minor": 0
      },
      "text/plain": [
       "FloatProgress(value=0.0, bar_style='info', description='Progress:', layout=Layout(height='25px', width='50%'),…"
      ]
     },
     "metadata": {},
     "output_type": "display_data"
    }
   ],
   "source": [
    "# Create a Spark Dataframe from the python list and the schema\n",
    "df_orders = spark.createDataFrame(order_list, schema=order_schema)"
   ]
  },
  {
   "cell_type": "code",
   "execution_count": 7,
   "metadata": {},
   "outputs": [
    {
     "data": {
      "application/vnd.jupyter.widget-view+json": {
       "model_id": "",
       "version_major": 2,
       "version_minor": 0
      },
      "text/plain": [
       "FloatProgress(value=0.0, bar_style='info', description='Progress:', layout=Layout(height='25px', width='50%'),…"
      ]
     },
     "metadata": {},
     "output_type": "display_data"
    },
    {
     "name": "stdout",
     "output_type": "stream",
     "text": [
      "+--------+-----------+--------------+----------+-------+\n",
      "|order_id|customer_id|essential_item| timestamp|zipcode|\n",
      "+--------+-----------+--------------+----------+-------+\n",
      "|    1005|        623|           YES|1418901234|  75091|\n",
      "|    1006|        547|            NO|1418901256|  75034|\n",
      "|    1007|        823|           YES|1418901300|  75023|\n",
      "|    1008|        912|            NO|1418901400|  82091|\n",
      "|    1009|        321|           YES|1418902000|  90093|\n",
      "+--------+-----------+--------------+----------+-------+"
     ]
    }
   ],
   "source": [
    "df_orders.show()"
   ]
  },
  {
   "cell_type": "code",
   "execution_count": 8,
   "metadata": {},
   "outputs": [
    {
     "data": {
      "application/vnd.jupyter.widget-view+json": {
       "model_id": "",
       "version_major": 2,
       "version_minor": 0
      },
      "text/plain": [
       "FloatProgress(value=0.0, bar_style='info', description='Progress:', layout=Layout(height='25px', width='50%'),…"
      ]
     },
     "metadata": {},
     "output_type": "display_data"
    },
    {
     "name": "stdout",
     "output_type": "stream",
     "text": [
      "root\n",
      " |-- order_id: string (nullable = true)\n",
      " |-- customer_id: string (nullable = true)\n",
      " |-- essential_item: string (nullable = true)\n",
      " |-- timestamp: string (nullable = true)\n",
      " |-- zipcode: string (nullable = true)"
     ]
    }
   ],
   "source": [
    "df_orders.printSchema()"
   ]
  },
  {
   "cell_type": "markdown",
   "metadata": {},
   "source": [
    "### DynamicFrame\n",
    "\n",
    "Spark DataFrame을 Glue DynamicFrame으로 변환한다."
   ]
  },
  {
   "cell_type": "code",
   "execution_count": 9,
   "metadata": {},
   "outputs": [
    {
     "data": {
      "application/vnd.jupyter.widget-view+json": {
       "model_id": "",
       "version_major": 2,
       "version_minor": 0
      },
      "text/plain": [
       "FloatProgress(value=0.0, bar_style='info', description='Progress:', layout=Layout(height='25px', width='50%'),…"
      ]
     },
     "metadata": {},
     "output_type": "display_data"
    }
   ],
   "source": [
    "dyf_orders = DynamicFrame.fromDF(df_orders, glueContext, \"dyf\")"
   ]
  },
  {
   "cell_type": "code",
   "execution_count": 10,
   "metadata": {},
   "outputs": [
    {
     "data": {
      "application/vnd.jupyter.widget-view+json": {
       "model_id": "",
       "version_major": 2,
       "version_minor": 0
      },
      "text/plain": [
       "FloatProgress(value=0.0, bar_style='info', description='Progress:', layout=Layout(height='25px', width='50%'),…"
      ]
     },
     "metadata": {},
     "output_type": "display_data"
    },
    {
     "name": "stdout",
     "output_type": "stream",
     "text": [
      "root\n",
      "|-- order_id: string\n",
      "|-- customer_id: string\n",
      "|-- essential_item: string\n",
      "|-- timestamp: string\n",
      "|-- zipcode: string"
     ]
    }
   ],
   "source": [
    "dyf_orders.printSchema()"
   ]
  },
  {
   "cell_type": "markdown",
   "metadata": {},
   "source": [
    "### AWS Glue transform functions."
   ]
  },
  {
   "cell_type": "markdown",
   "metadata": {},
   "source": [
    "### ApplyMapping\n",
    "\n",
    "\n",
    "DynamicFrame에 mappings을 적용한다."
   ]
  },
  {
   "cell_type": "code",
   "execution_count": 11,
   "metadata": {},
   "outputs": [
    {
     "data": {
      "application/vnd.jupyter.widget-view+json": {
       "model_id": "",
       "version_major": 2,
       "version_minor": 0
      },
      "text/plain": [
       "FloatProgress(value=0.0, bar_style='info', description='Progress:', layout=Layout(height='25px', width='50%'),…"
      ]
     },
     "metadata": {},
     "output_type": "display_data"
    }
   ],
   "source": [
    "dyf_applyMapping = ApplyMapping.apply(frame=dyf_orders, mappings=[\n",
    "    (\"order_id\", \"String\", \"order_id\", \"Long\"),\n",
    "    (\"customer_id\", \"String\", \"customer_id\", \"String\"),\n",
    "    (\"essential_item\", \"String\", \"essential_item\", \"String\"),\n",
    "    (\"timestamp\", \"String\", \"timestamp\", \"Long\"),\n",
    "    (\"zipcode\", \"String\", \"zip\", \"Long\")\n",
    "])"
   ]
  },
  {
   "cell_type": "markdown",
   "metadata": {},
   "source": [
    "ℹ️ <b>Glue transform functions의 arguments 확인 방법</b>\n",
    "    \n",
    "describeArgs()를 이용해서 GlueTransform 클래스의 named arguments에 대한 정보를 얻을 수 있다."
   ]
  },
  {
   "cell_type": "code",
   "execution_count": 12,
   "metadata": {},
   "outputs": [
    {
     "data": {
      "application/vnd.jupyter.widget-view+json": {
       "model_id": "",
       "version_major": 2,
       "version_minor": 0
      },
      "text/plain": [
       "FloatProgress(value=0.0, bar_style='info', description='Progress:', layout=Layout(height='25px', width='50%'),…"
      ]
     },
     "metadata": {},
     "output_type": "display_data"
    },
    {
     "name": "stdout",
     "output_type": "stream",
     "text": [
      "[{'name': 'frame', 'type': 'DynamicFrame', 'description': 'DynamicFrame to transform', 'optional': False, 'defaultValue': None}, {'name': 'mappings', 'type': 'DynamicFrame', 'description': 'List of mapping tuples (source col, source type, target col, target type)', 'optional': False, 'defaultValue': None}, {'name': 'case_sensitive', 'type': 'Boolean', 'description': 'Whether ', 'optional': True, 'defaultValue': 'False'}, {'name': 'transformation_ctx', 'type': 'String', 'description': 'A unique string that is used to identify stats / state information', 'optional': True, 'defaultValue': ''}, {'name': 'info', 'type': 'String', 'description': 'Any string to be associated with errors in the transformation', 'optional': True, 'defaultValue': '\"\"'}, {'name': 'stageThreshold', 'type': 'Integer', 'description': 'Max number of errors in the transformation until processing will error out', 'optional': True, 'defaultValue': '0'}, {'name': 'totalThreshold', 'type': 'Integer', 'description': 'Max number of errors total until processing will error out.', 'optional': True, 'defaultValue': '0'}]"
     ]
    }
   ],
   "source": [
    "ApplyMapping.describeArgs()"
   ]
  },
  {
   "cell_type": "code",
   "execution_count": 13,
   "metadata": {},
   "outputs": [
    {
     "data": {
      "application/vnd.jupyter.widget-view+json": {
       "model_id": "",
       "version_major": 2,
       "version_minor": 0
      },
      "text/plain": [
       "FloatProgress(value=0.0, bar_style='info', description='Progress:', layout=Layout(height='25px', width='50%'),…"
      ]
     },
     "metadata": {},
     "output_type": "display_data"
    },
    {
     "name": "stdout",
     "output_type": "stream",
     "text": [
      "[{'defaultValue': None,\n",
      "  'description': 'DynamicFrame to transform',\n",
      "  'name': 'frame',\n",
      "  'optional': False,\n",
      "  'type': 'DynamicFrame'},\n",
      " {'defaultValue': None,\n",
      "  'description': 'List of mapping tuples (source col, source type, target col, '\n",
      "                 'target type)',\n",
      "  'name': 'mappings',\n",
      "  'optional': False,\n",
      "  'type': 'DynamicFrame'},\n",
      " {'defaultValue': 'False',\n",
      "  'description': 'Whether ',\n",
      "  'name': 'case_sensitive',\n",
      "  'optional': True,\n",
      "  'type': 'Boolean'},\n",
      " {'defaultValue': '',\n",
      "  'description': 'A unique string that is used to identify stats / state '\n",
      "                 'information',\n",
      "  'name': 'transformation_ctx',\n",
      "  'optional': True,\n",
      "  'type': 'String'},\n",
      " {'defaultValue': '\"\"',\n",
      "  'description': 'Any string to be associated with errors in the '\n",
      "                 'transformation',\n",
      "  'name': 'info',\n",
      "  'optional': True,\n",
      "  'type': 'String'},\n",
      " {'defaultValue': '0',\n",
      "  'description': 'Max number of errors in the transformation until processing '\n",
      "                 'will error out',\n",
      "  'name': 'stageThreshold',\n",
      "  'optional': True,\n",
      "  'type': 'Integer'},\n",
      " {'defaultValue': '0',\n",
      "  'description': 'Max number of errors total until processing will error out.',\n",
      "  'name': 'totalThreshold',\n",
      "  'optional': True,\n",
      "  'type': 'Integer'}]"
     ]
    }
   ],
   "source": [
    "import pprint\n",
    "\n",
    "pprint.pprint(ApplyMapping.describeArgs())"
   ]
  },
  {
   "cell_type": "code",
   "execution_count": 14,
   "metadata": {},
   "outputs": [
    {
     "data": {
      "application/vnd.jupyter.widget-view+json": {
       "model_id": "",
       "version_major": 2,
       "version_minor": 0
      },
      "text/plain": [
       "FloatProgress(value=0.0, bar_style='info', description='Progress:', layout=Layout(height='25px', width='50%'),…"
      ]
     },
     "metadata": {},
     "output_type": "display_data"
    },
    {
     "name": "stdout",
     "output_type": "stream",
     "text": [
      "root\n",
      "|-- order_id: long\n",
      "|-- customer_id: string\n",
      "|-- essential_item: string\n",
      "|-- timestamp: long\n",
      "|-- zip: long"
     ]
    }
   ],
   "source": [
    "dyf_applyMapping.printSchema()"
   ]
  },
  {
   "cell_type": "markdown",
   "metadata": {},
   "source": [
    "### Filter\n",
    "\n",
    "지정된 조건자 함수를 만족하는 입력 DynamicFrame에서 record를 선택하여 새로운 DynamicFrame을 만든다."
   ]
  },
  {
   "cell_type": "markdown",
   "metadata": {},
   "source": [
    "이 예제에서는 essential items 찾는다."
   ]
  },
  {
   "cell_type": "code",
   "execution_count": 15,
   "metadata": {},
   "outputs": [
    {
     "data": {
      "application/vnd.jupyter.widget-view+json": {
       "model_id": "",
       "version_major": 2,
       "version_minor": 0
      },
      "text/plain": [
       "FloatProgress(value=0.0, bar_style='info', description='Progress:', layout=Layout(height='25px', width='50%'),…"
      ]
     },
     "metadata": {},
     "output_type": "display_data"
    }
   ],
   "source": [
    "dyf_filter = Filter.apply(frame=dyf_applyMapping, f=lambda x: x[\"essential_item\"] == 'YES')"
   ]
  },
  {
   "cell_type": "code",
   "execution_count": 16,
   "metadata": {},
   "outputs": [
    {
     "data": {
      "application/vnd.jupyter.widget-view+json": {
       "model_id": "",
       "version_major": 2,
       "version_minor": 0
      },
      "text/plain": [
       "FloatProgress(value=0.0, bar_style='info', description='Progress:', layout=Layout(height='25px', width='50%'),…"
      ]
     },
     "metadata": {},
     "output_type": "display_data"
    },
    {
     "name": "stdout",
     "output_type": "stream",
     "text": [
      "+--------------+-----------+-----+----------+--------+\n",
      "|essential_item|customer_id|  zip| timestamp|order_id|\n",
      "+--------------+-----------+-----+----------+--------+\n",
      "|           YES|        623|75091|1418901234|    1005|\n",
      "|           YES|        823|75023|1418901300|    1007|\n",
      "|           YES|        321|90093|1418902000|    1009|\n",
      "+--------------+-----------+-----+----------+--------+"
     ]
    }
   ],
   "source": [
    "dyf_filter.toDF().show()"
   ]
  },
  {
   "cell_type": "markdown",
   "metadata": {},
   "source": [
    "### Map\n",
    "\n",
    "입력 DynamicFrame의 모든 record에 함수를 적용하여 새로운 DynamicFrame을 만든다."
   ]
  },
  {
   "cell_type": "code",
   "execution_count": 17,
   "metadata": {},
   "outputs": [
    {
     "data": {
      "application/vnd.jupyter.widget-view+json": {
       "model_id": "",
       "version_major": 2,
       "version_minor": 0
      },
      "text/plain": [
       "FloatProgress(value=0.0, bar_style='info', description='Progress:', layout=Layout(height='25px', width='50%'),…"
      ]
     },
     "metadata": {},
     "output_type": "display_data"
    }
   ],
   "source": [
    "# This function takes in a dynamic frame record and checks if zipcode # 75034 is present in it. If present, it adds another column \n",
    "# “next_day_air” with value as True\n",
    "def next_day_air(rec):\n",
    "    if rec[\"zip\"] == 75034:\n",
    "        rec[\"next_day_air\"] = True\n",
    "    return rec"
   ]
  },
  {
   "cell_type": "code",
   "execution_count": 18,
   "metadata": {},
   "outputs": [
    {
     "data": {
      "application/vnd.jupyter.widget-view+json": {
       "model_id": "",
       "version_major": 2,
       "version_minor": 0
      },
      "text/plain": [
       "FloatProgress(value=0.0, bar_style='info', description='Progress:', layout=Layout(height='25px', width='50%'),…"
      ]
     },
     "metadata": {},
     "output_type": "display_data"
    }
   ],
   "source": [
    "mapped_dyF = Map.apply(frame=dyf_applyMapping, f=next_day_air)"
   ]
  },
  {
   "cell_type": "code",
   "execution_count": 19,
   "metadata": {},
   "outputs": [
    {
     "data": {
      "application/vnd.jupyter.widget-view+json": {
       "model_id": "",
       "version_major": 2,
       "version_minor": 0
      },
      "text/plain": [
       "FloatProgress(value=0.0, bar_style='info', description='Progress:', layout=Layout(height='25px', width='50%'),…"
      ]
     },
     "metadata": {},
     "output_type": "display_data"
    },
    {
     "name": "stdout",
     "output_type": "stream",
     "text": [
      "+--------------+-----------+-----+----------+--------+------------+\n",
      "|essential_item|customer_id|  zip| timestamp|order_id|next_day_air|\n",
      "+--------------+-----------+-----+----------+--------+------------+\n",
      "|           YES|        623|75091|1418901234|    1005|        null|\n",
      "|            NO|        547|75034|1418901256|    1006|        true|\n",
      "|           YES|        823|75023|1418901300|    1007|        null|\n",
      "|            NO|        912|82091|1418901400|    1008|        null|\n",
      "|           YES|        321|90093|1418902000|    1009|        null|\n",
      "+--------------+-----------+-----+----------+--------+------------+"
     ]
    }
   ],
   "source": [
    "mapped_dyF.toDF().show()"
   ]
  },
  {
   "cell_type": "markdown",
   "metadata": {},
   "source": [
    "### Dataset 2"
   ]
  },
  {
   "cell_type": "code",
   "execution_count": 20,
   "metadata": {},
   "outputs": [
    {
     "data": {
      "application/vnd.jupyter.widget-view+json": {
       "model_id": "",
       "version_major": 2,
       "version_minor": 0
      },
      "text/plain": [
       "FloatProgress(value=0.0, bar_style='info', description='Progress:', layout=Layout(height='25px', width='50%'),…"
      ]
     },
     "metadata": {},
     "output_type": "display_data"
    }
   ],
   "source": [
    "jsonStr1 = u'{ \"zip\": 75091, \"customers\": [{ \"id\": 623, \"address\": \"108 Park Street, TX\"}, { \"id\": 231, \"address\": \"763 Marsh Ln, TX\" }]}'\n",
    "jsonStr2 = u'{ \"zip\": 82091, \"customers\": [{ \"id\": 201, \"address\": \"771 Peek Pkwy, GA\" }]}'\n",
    "jsonStr3 = u'{ \"zip\": 75023, \"customers\": [{ \"id\": 343, \"address\": \"66 P Street, NY\" }]}'\n",
    "jsonStr4 = u'{ \"zip\": 90093, \"customers\": [{ \"id\": 932, \"address\": \"708 Fed Ln, CA\"}, { \"id\": 102, \"address\": \"807 Deccan Dr, CA\" }]}'"
   ]
  },
  {
   "cell_type": "code",
   "execution_count": 21,
   "metadata": {},
   "outputs": [
    {
     "data": {
      "application/vnd.jupyter.widget-view+json": {
       "model_id": "",
       "version_major": 2,
       "version_minor": 0
      },
      "text/plain": [
       "FloatProgress(value=0.0, bar_style='info', description='Progress:', layout=Layout(height='25px', width='50%'),…"
      ]
     },
     "metadata": {},
     "output_type": "display_data"
    }
   ],
   "source": [
    "df_row = spark.createDataFrame([\n",
    "    Row(json=jsonStr1),\n",
    "    Row(json=jsonStr2),\n",
    "    Row(json=jsonStr4)\n",
    "])"
   ]
  },
  {
   "cell_type": "code",
   "execution_count": 22,
   "metadata": {},
   "outputs": [
    {
     "data": {
      "application/vnd.jupyter.widget-view+json": {
       "model_id": "",
       "version_major": 2,
       "version_minor": 0
      },
      "text/plain": [
       "FloatProgress(value=0.0, bar_style='info', description='Progress:', layout=Layout(height='25px', width='50%'),…"
      ]
     },
     "metadata": {},
     "output_type": "display_data"
    }
   ],
   "source": [
    "df_json = spark.read.json(df_row.rdd.map(lambda r: r.json))"
   ]
  },
  {
   "cell_type": "code",
   "execution_count": 23,
   "metadata": {},
   "outputs": [
    {
     "data": {
      "application/vnd.jupyter.widget-view+json": {
       "model_id": "",
       "version_major": 2,
       "version_minor": 0
      },
      "text/plain": [
       "FloatProgress(value=0.0, bar_style='info', description='Progress:', layout=Layout(height='25px', width='50%'),…"
      ]
     },
     "metadata": {},
     "output_type": "display_data"
    },
    {
     "name": "stdout",
     "output_type": "stream",
     "text": [
      "+--------------------+-----+\n",
      "|           customers|  zip|\n",
      "+--------------------+-----+\n",
      "|[[108 Park Street...|75091|\n",
      "|[[771 Peek Pkwy, ...|82091|\n",
      "|[[708 Fed Ln, CA,...|90093|\n",
      "+--------------------+-----+"
     ]
    }
   ],
   "source": [
    "df_json.show()"
   ]
  },
  {
   "cell_type": "code",
   "execution_count": 24,
   "metadata": {},
   "outputs": [
    {
     "data": {
      "application/vnd.jupyter.widget-view+json": {
       "model_id": "",
       "version_major": 2,
       "version_minor": 0
      },
      "text/plain": [
       "FloatProgress(value=0.0, bar_style='info', description='Progress:', layout=Layout(height='25px', width='50%'),…"
      ]
     },
     "metadata": {},
     "output_type": "display_data"
    },
    {
     "name": "stdout",
     "output_type": "stream",
     "text": [
      "root\n",
      " |-- customers: array (nullable = true)\n",
      " |    |-- element: struct (containsNull = true)\n",
      " |    |    |-- address: string (nullable = true)\n",
      " |    |    |-- id: long (nullable = true)\n",
      " |-- zip: long (nullable = true)"
     ]
    }
   ],
   "source": [
    "df_json.printSchema()"
   ]
  },
  {
   "cell_type": "markdown",
   "metadata": {},
   "source": [
    "Spark DataFrame을 Glue DynamicFrame으로 변환한다."
   ]
  },
  {
   "cell_type": "code",
   "execution_count": 25,
   "metadata": {},
   "outputs": [
    {
     "data": {
      "application/vnd.jupyter.widget-view+json": {
       "model_id": "",
       "version_major": 2,
       "version_minor": 0
      },
      "text/plain": [
       "FloatProgress(value=0.0, bar_style='info', description='Progress:', layout=Layout(height='25px', width='50%'),…"
      ]
     },
     "metadata": {},
     "output_type": "display_data"
    }
   ],
   "source": [
    "dyf_json = DynamicFrame.fromDF(df_json, glueContext, \"dyf_json\")"
   ]
  },
  {
   "cell_type": "code",
   "execution_count": 26,
   "metadata": {},
   "outputs": [
    {
     "data": {
      "application/vnd.jupyter.widget-view+json": {
       "model_id": "",
       "version_major": 2,
       "version_minor": 0
      },
      "text/plain": [
       "FloatProgress(value=0.0, bar_style='info', description='Progress:', layout=Layout(height='25px', width='50%'),…"
      ]
     },
     "metadata": {},
     "output_type": "display_data"
    },
    {
     "name": "stdout",
     "output_type": "stream",
     "text": [
      "root\n",
      "|-- customers: array\n",
      "|    |-- element: struct\n",
      "|    |    |-- address: string\n",
      "|    |    |-- id: long\n",
      "|-- zip: long"
     ]
    }
   ],
   "source": [
    "dyf_json.printSchema()"
   ]
  },
  {
   "cell_type": "markdown",
   "metadata": {},
   "source": [
    "### SelectFields\n",
    "\n",
    "DynamicFrame의 필드를 얻는다."
   ]
  },
  {
   "cell_type": "code",
   "execution_count": 27,
   "metadata": {},
   "outputs": [
    {
     "data": {
      "application/vnd.jupyter.widget-view+json": {
       "model_id": "",
       "version_major": 2,
       "version_minor": 0
      },
      "text/plain": [
       "FloatProgress(value=0.0, bar_style='info', description='Progress:', layout=Layout(height='25px', width='50%'),…"
      ]
     },
     "metadata": {},
     "output_type": "display_data"
    }
   ],
   "source": [
    "dyf_selectFields = SelectFields.apply(frame=dyf_filter, paths=['zip'])"
   ]
  },
  {
   "cell_type": "code",
   "execution_count": 28,
   "metadata": {},
   "outputs": [
    {
     "data": {
      "application/vnd.jupyter.widget-view+json": {
       "model_id": "",
       "version_major": 2,
       "version_minor": 0
      },
      "text/plain": [
       "FloatProgress(value=0.0, bar_style='info', description='Progress:', layout=Layout(height='25px', width='50%'),…"
      ]
     },
     "metadata": {},
     "output_type": "display_data"
    },
    {
     "name": "stdout",
     "output_type": "stream",
     "text": [
      "+-----+\n",
      "|  zip|\n",
      "+-----+\n",
      "|75091|\n",
      "|75023|\n",
      "|90093|\n",
      "+-----+"
     ]
    }
   ],
   "source": [
    "dyf_selectFields.toDF().show()"
   ]
  },
  {
   "cell_type": "markdown",
   "metadata": {},
   "source": [
    "### Join"
   ]
  },
  {
   "cell_type": "code",
   "execution_count": 29,
   "metadata": {},
   "outputs": [
    {
     "data": {
      "application/vnd.jupyter.widget-view+json": {
       "model_id": "",
       "version_major": 2,
       "version_minor": 0
      },
      "text/plain": [
       "FloatProgress(value=0.0, bar_style='info', description='Progress:', layout=Layout(height='25px', width='50%'),…"
      ]
     },
     "metadata": {},
     "output_type": "display_data"
    }
   ],
   "source": [
    "dyf_join = Join.apply(dyf_json, dyf_selectFields, 'zip', 'zip')"
   ]
  },
  {
   "cell_type": "markdown",
   "metadata": {},
   "source": [
    "ℹ️ 컬럼 이름이 중복되는 경우, AWS Glue는 중복 컬럼 중 하나에 period(.)를 붙인다."
   ]
  },
  {
   "cell_type": "code",
   "execution_count": 30,
   "metadata": {},
   "outputs": [
    {
     "data": {
      "application/vnd.jupyter.widget-view+json": {
       "model_id": "",
       "version_major": 2,
       "version_minor": 0
      },
      "text/plain": [
       "FloatProgress(value=0.0, bar_style='info', description='Progress:', layout=Layout(height='25px', width='50%'),…"
      ]
     },
     "metadata": {},
     "output_type": "display_data"
    },
    {
     "name": "stdout",
     "output_type": "stream",
     "text": [
      "+--------------------+-----+-----+\n",
      "|           customers| .zip|  zip|\n",
      "+--------------------+-----+-----+\n",
      "|[[708 Fed Ln, CA,...|90093|90093|\n",
      "|[[108 Park Street...|75091|75091|\n",
      "+--------------------+-----+-----+"
     ]
    }
   ],
   "source": [
    "dyf_join.toDF().show()"
   ]
  },
  {
   "cell_type": "markdown",
   "metadata": {},
   "source": [
    "### Dropfields\n",
    "\n",
    "DynamicFrame 내에서 특정 필드를 제거한다."
   ]
  },
  {
   "cell_type": "code",
   "execution_count": 31,
   "metadata": {},
   "outputs": [
    {
     "data": {
      "application/vnd.jupyter.widget-view+json": {
       "model_id": "",
       "version_major": 2,
       "version_minor": 0
      },
      "text/plain": [
       "FloatProgress(value=0.0, bar_style='info', description='Progress:', layout=Layout(height='25px', width='50%'),…"
      ]
     },
     "metadata": {},
     "output_type": "display_data"
    }
   ],
   "source": [
    "dyf_dropfields = DropFields.apply(frame=dyf_join, paths=\"`.zip`\")"
   ]
  },
  {
   "cell_type": "code",
   "execution_count": 32,
   "metadata": {},
   "outputs": [
    {
     "data": {
      "application/vnd.jupyter.widget-view+json": {
       "model_id": "",
       "version_major": 2,
       "version_minor": 0
      },
      "text/plain": [
       "FloatProgress(value=0.0, bar_style='info', description='Progress:', layout=Layout(height='25px', width='50%'),…"
      ]
     },
     "metadata": {},
     "output_type": "display_data"
    },
    {
     "name": "stdout",
     "output_type": "stream",
     "text": [
      "+--------------------+-----+\n",
      "|           customers|  zip|\n",
      "+--------------------+-----+\n",
      "|[[708 Fed Ln, CA,...|90093|\n",
      "|[[108 Park Street...|75091|\n",
      "+--------------------+-----+"
     ]
    }
   ],
   "source": [
    "dyf_dropfields.toDF().show()"
   ]
  },
  {
   "cell_type": "markdown",
   "metadata": {},
   "source": [
    "### Relationalize\n",
    "\n",
    "중첩된 구조를 변경해서 여러 개의 DynamicFrame을 생성한다."
   ]
  },
  {
   "cell_type": "code",
   "execution_count": 33,
   "metadata": {},
   "outputs": [
    {
     "data": {
      "application/vnd.jupyter.widget-view+json": {
       "model_id": "",
       "version_major": 2,
       "version_minor": 0
      },
      "text/plain": [
       "FloatProgress(value=0.0, bar_style='info', description='Progress:', layout=Layout(height='25px', width='50%'),…"
      ]
     },
     "metadata": {},
     "output_type": "display_data"
    }
   ],
   "source": [
    "dyf_relationalize = dyf_dropfields.relationalize(\"root\", \"/home/glue/GlueLocalOutput\")"
   ]
  },
  {
   "cell_type": "code",
   "execution_count": 34,
   "metadata": {},
   "outputs": [
    {
     "data": {
      "application/vnd.jupyter.widget-view+json": {
       "model_id": "",
       "version_major": 2,
       "version_minor": 0
      },
      "text/plain": [
       "FloatProgress(value=0.0, bar_style='info', description='Progress:', layout=Layout(height='25px', width='50%'),…"
      ]
     },
     "metadata": {},
     "output_type": "display_data"
    },
    {
     "name": "stdout",
     "output_type": "stream",
     "text": [
      "[{'defaultValue': None,\n",
      "  'description': 'The DynamicFrame to relationalize',\n",
      "  'name': 'frame',\n",
      "  'optional': False,\n",
      "  'type': 'DynamicFrame'},\n",
      " {'defaultValue': None,\n",
      "  'description': 'path to store partitions of pivoted tables in csv format',\n",
      "  'name': 'staging_path',\n",
      "  'optional': True,\n",
      "  'type': 'String'},\n",
      " {'defaultValue': 'roottable',\n",
      "  'description': 'Name of the root table',\n",
      "  'name': 'name',\n",
      "  'optional': True,\n",
      "  'type': 'String'},\n",
      " {'defaultValue': '{}',\n",
      "  'description': 'dict of optional parameters for relationalize',\n",
      "  'name': 'options',\n",
      "  'optional': True,\n",
      "  'type': 'Dictionary'},\n",
      " {'defaultValue': '',\n",
      "  'description': 'A unique string that is used to identify stats / state '\n",
      "                 'information',\n",
      "  'name': 'transformation_ctx',\n",
      "  'optional': True,\n",
      "  'type': 'String'},\n",
      " {'defaultValue': '\"\"',\n",
      "  'description': 'Any string to be associated with errors in the '\n",
      "                 'transformation',\n",
      "  'name': 'info',\n",
      "  'optional': True,\n",
      "  'type': 'String'},\n",
      " {'defaultValue': '0',\n",
      "  'description': 'Max number of errors in the transformation until processing '\n",
      "                 'will error out',\n",
      "  'name': 'stageThreshold',\n",
      "  'optional': True,\n",
      "  'type': 'Integer'},\n",
      " {'defaultValue': '0',\n",
      "  'description': 'Max number of errors total until processing will error out.',\n",
      "  'name': 'totalThreshold',\n",
      "  'optional': True,\n",
      "  'type': 'Integer'}]"
     ]
    }
   ],
   "source": [
    "import pprint\n",
    "\n",
    "pprint.pprint(Relationalize.describeArgs())"
   ]
  },
  {
   "cell_type": "code",
   "execution_count": 35,
   "metadata": {},
   "outputs": [
    {
     "data": {
      "application/vnd.jupyter.widget-view+json": {
       "model_id": "",
       "version_major": 2,
       "version_minor": 0
      },
      "text/plain": [
       "FloatProgress(value=0.0, bar_style='info', description='Progress:', layout=Layout(height='25px', width='50%'),…"
      ]
     },
     "metadata": {},
     "output_type": "display_data"
    },
    {
     "name": "stdout",
     "output_type": "stream",
     "text": [
      "dict_keys(['root', 'root_customers'])"
     ]
    }
   ],
   "source": [
    "dyf_relationalize.keys()"
   ]
  },
  {
   "cell_type": "markdown",
   "metadata": {},
   "source": [
    "### SelectFromCollection\n",
    "\n",
    "DynamicFrameCollection에서 DynamicFrame 하나를 선택한다."
   ]
  },
  {
   "cell_type": "code",
   "execution_count": 36,
   "metadata": {},
   "outputs": [
    {
     "data": {
      "application/vnd.jupyter.widget-view+json": {
       "model_id": "",
       "version_major": 2,
       "version_minor": 0
      },
      "text/plain": [
       "FloatProgress(value=0.0, bar_style='info', description='Progress:', layout=Layout(height='25px', width='50%'),…"
      ]
     },
     "metadata": {},
     "output_type": "display_data"
    }
   ],
   "source": [
    "dyf_selectFromCollection = SelectFromCollection.apply(dyf_relationalize, \"root\")"
   ]
  },
  {
   "cell_type": "code",
   "execution_count": 37,
   "metadata": {},
   "outputs": [
    {
     "data": {
      "application/vnd.jupyter.widget-view+json": {
       "model_id": "",
       "version_major": 2,
       "version_minor": 0
      },
      "text/plain": [
       "FloatProgress(value=0.0, bar_style='info', description='Progress:', layout=Layout(height='25px', width='50%'),…"
      ]
     },
     "metadata": {},
     "output_type": "display_data"
    },
    {
     "name": "stdout",
     "output_type": "stream",
     "text": [
      "+---------+-----+\n",
      "|customers|  zip|\n",
      "+---------+-----+\n",
      "|        1|90093|\n",
      "|        2|75091|\n",
      "+---------+-----+"
     ]
    }
   ],
   "source": [
    "dyf_selectFromCollection.toDF().show()"
   ]
  },
  {
   "cell_type": "code",
   "execution_count": 38,
   "metadata": {},
   "outputs": [
    {
     "data": {
      "application/vnd.jupyter.widget-view+json": {
       "model_id": "",
       "version_major": 2,
       "version_minor": 0
      },
      "text/plain": [
       "FloatProgress(value=0.0, bar_style='info', description='Progress:', layout=Layout(height='25px', width='50%'),…"
      ]
     },
     "metadata": {},
     "output_type": "display_data"
    }
   ],
   "source": [
    "dyf_selectFromCollection = SelectFromCollection.apply(dyf_relationalize, \"root_customers\")"
   ]
  },
  {
   "cell_type": "code",
   "execution_count": 39,
   "metadata": {},
   "outputs": [
    {
     "data": {
      "application/vnd.jupyter.widget-view+json": {
       "model_id": "",
       "version_major": 2,
       "version_minor": 0
      },
      "text/plain": [
       "FloatProgress(value=0.0, bar_style='info', description='Progress:', layout=Layout(height='25px', width='50%'),…"
      ]
     },
     "metadata": {},
     "output_type": "display_data"
    },
    {
     "name": "stdout",
     "output_type": "stream",
     "text": [
      "+---+-----+---------------------+----------------+\n",
      "| id|index|customers.val.address|customers.val.id|\n",
      "+---+-----+---------------------+----------------+\n",
      "|  1|    0|       708 Fed Ln, CA|             932|\n",
      "|  1|    1|    807 Deccan Dr, CA|             102|\n",
      "|  2|    0|  108 Park Street, TX|             623|\n",
      "|  2|    1|     763 Marsh Ln, TX|             231|\n",
      "+---+-----+---------------------+----------------+"
     ]
    }
   ],
   "source": [
    "dyf_selectFromCollection.toDF().show()"
   ]
  },
  {
   "cell_type": "markdown",
   "metadata": {},
   "source": [
    "### RenameField\n",
    "\n",
    "DynamicFrame 내에서 컬럼(노드) 이름을 변경한다."
   ]
  },
  {
   "cell_type": "code",
   "execution_count": 40,
   "metadata": {},
   "outputs": [
    {
     "data": {
      "application/vnd.jupyter.widget-view+json": {
       "model_id": "",
       "version_major": 2,
       "version_minor": 0
      },
      "text/plain": [
       "FloatProgress(value=0.0, bar_style='info', description='Progress:', layout=Layout(height='25px', width='50%'),…"
      ]
     },
     "metadata": {},
     "output_type": "display_data"
    }
   ],
   "source": [
    "dyf_renameField_1 = RenameField.apply(dyf_selectFromCollection, \"`customers.val.address`\", \"address\")"
   ]
  },
  {
   "cell_type": "code",
   "execution_count": 41,
   "metadata": {},
   "outputs": [
    {
     "data": {
      "application/vnd.jupyter.widget-view+json": {
       "model_id": "",
       "version_major": 2,
       "version_minor": 0
      },
      "text/plain": [
       "FloatProgress(value=0.0, bar_style='info', description='Progress:', layout=Layout(height='25px', width='50%'),…"
      ]
     },
     "metadata": {},
     "output_type": "display_data"
    }
   ],
   "source": [
    "dyf_renameField_2 = RenameField.apply(dyf_renameField_1, \"`customers.val.id`\", \"cust_id\")"
   ]
  },
  {
   "cell_type": "code",
   "execution_count": 42,
   "metadata": {},
   "outputs": [
    {
     "data": {
      "application/vnd.jupyter.widget-view+json": {
       "model_id": "",
       "version_major": 2,
       "version_minor": 0
      },
      "text/plain": [
       "FloatProgress(value=0.0, bar_style='info', description='Progress:', layout=Layout(height='25px', width='50%'),…"
      ]
     },
     "metadata": {},
     "output_type": "display_data"
    },
    {
     "name": "stdout",
     "output_type": "stream",
     "text": [
      "+---+-----+-------------------+-------+\n",
      "| id|index|            address|cust_id|\n",
      "+---+-----+-------------------+-------+\n",
      "|  1|    0|     708 Fed Ln, CA|    932|\n",
      "|  1|    1|  807 Deccan Dr, CA|    102|\n",
      "|  2|    0|108 Park Street, TX|    623|\n",
      "|  2|    1|   763 Marsh Ln, TX|    231|\n",
      "+---+-----+-------------------+-------+"
     ]
    }
   ],
   "source": [
    "dyf_renameField_2.toDF().show()"
   ]
  },
  {
   "cell_type": "code",
   "execution_count": 43,
   "metadata": {},
   "outputs": [
    {
     "data": {
      "application/vnd.jupyter.widget-view+json": {
       "model_id": "",
       "version_major": 2,
       "version_minor": 0
      },
      "text/plain": [
       "FloatProgress(value=0.0, bar_style='info', description='Progress:', layout=Layout(height='25px', width='50%'),…"
      ]
     },
     "metadata": {},
     "output_type": "display_data"
    }
   ],
   "source": [
    "dyf_dropfields_rf = DropFields.apply(\n",
    "  frame = dyf_renameField_2,\n",
    "  paths = [\"index\", \"id\"]\n",
    ")"
   ]
  },
  {
   "cell_type": "code",
   "execution_count": 44,
   "metadata": {},
   "outputs": [
    {
     "data": {
      "application/vnd.jupyter.widget-view+json": {
       "model_id": "",
       "version_major": 2,
       "version_minor": 0
      },
      "text/plain": [
       "FloatProgress(value=0.0, bar_style='info', description='Progress:', layout=Layout(height='25px', width='50%'),…"
      ]
     },
     "metadata": {},
     "output_type": "display_data"
    },
    {
     "name": "stdout",
     "output_type": "stream",
     "text": [
      "+-------------------+-------+\n",
      "|            address|cust_id|\n",
      "+-------------------+-------+\n",
      "|     708 Fed Ln, CA|    932|\n",
      "|  807 Deccan Dr, CA|    102|\n",
      "|108 Park Street, TX|    623|\n",
      "|   763 Marsh Ln, TX|    231|\n",
      "+-------------------+-------+"
     ]
    }
   ],
   "source": [
    "dyf_dropfields_rf.toDF().show()"
   ]
  },
  {
   "cell_type": "markdown",
   "metadata": {},
   "source": [
    "### ResolveChoice\n",
    "\n",
    "컬럼의 데이터 타입이 2 가지 이상인 경우, 사용자가 지정한 컬럼 타입으로 타입 변환한다."
   ]
  },
  {
   "cell_type": "code",
   "execution_count": 45,
   "metadata": {},
   "outputs": [
    {
     "data": {
      "application/vnd.jupyter.widget-view+json": {
       "model_id": "",
       "version_major": 2,
       "version_minor": 0
      },
      "text/plain": [
       "FloatProgress(value=0.0, bar_style='info', description='Progress:', layout=Layout(height='25px', width='50%'),…"
      ]
     },
     "metadata": {},
     "output_type": "display_data"
    },
    {
     "name": "stdout",
     "output_type": "stream",
     "text": [
      "[{'defaultValue': None,\n",
      "  'description': 'DynamicFrame to transform',\n",
      "  'name': 'frame',\n",
      "  'optional': False,\n",
      "  'type': 'DynamicFrame'},\n",
      " {'defaultValue': None,\n",
      "  'description': 'List of specs (path, action)',\n",
      "  'name': 'specs',\n",
      "  'optional': True,\n",
      "  'type': 'List'},\n",
      " {'defaultValue': '',\n",
      "  'description': 'resolve choice option',\n",
      "  'name': 'choice',\n",
      "  'optional': True,\n",
      "  'type': 'String'},\n",
      " {'defaultValue': '',\n",
      "  'description': 'Glue catalog database name, required for MATCH_CATALOG '\n",
      "                 'choice',\n",
      "  'name': 'database',\n",
      "  'optional': True,\n",
      "  'type': 'String'},\n",
      " {'defaultValue': '',\n",
      "  'description': 'Glue catalog table name, required for MATCH_CATALOG choice',\n",
      "  'name': 'table_name',\n",
      "  'optional': True,\n",
      "  'type': 'String'},\n",
      " {'defaultValue': '',\n",
      "  'description': 'A unique string that is used to identify stats / state '\n",
      "                 'information',\n",
      "  'name': 'transformation_ctx',\n",
      "  'optional': True,\n",
      "  'type': 'String'},\n",
      " {'defaultValue': '\"\"',\n",
      "  'description': 'Any string to be associated with errors in the '\n",
      "                 'transformation',\n",
      "  'name': 'info',\n",
      "  'optional': True,\n",
      "  'type': 'String'},\n",
      " {'defaultValue': '0',\n",
      "  'description': 'Max number of errors in the transformation until processing '\n",
      "                 'will error out',\n",
      "  'name': 'stageThreshold',\n",
      "  'optional': True,\n",
      "  'type': 'Integer'},\n",
      " {'defaultValue': '0',\n",
      "  'description': 'Max number of errors total until processing will error out.',\n",
      "  'name': 'totalThreshold',\n",
      "  'optional': True,\n",
      "  'type': 'Integer'},\n",
      " {'defaultValue': 'accountId',\n",
      "  'description': 'Catalog id for match_catalog id.',\n",
      "  'name': 'catalog_id',\n",
      "  'optional': True,\n",
      "  'type': 'String'}]"
     ]
    }
   ],
   "source": [
    "import pprint\n",
    "\n",
    "pprint.pprint(ResolveChoice.describeArgs())"
   ]
  },
  {
   "cell_type": "code",
   "execution_count": 46,
   "metadata": {},
   "outputs": [
    {
     "data": {
      "application/vnd.jupyter.widget-view+json": {
       "model_id": "",
       "version_major": 2,
       "version_minor": 0
      },
      "text/plain": [
       "FloatProgress(value=0.0, bar_style='info', description='Progress:', layout=Layout(height='25px', width='50%'),…"
      ]
     },
     "metadata": {},
     "output_type": "display_data"
    }
   ],
   "source": [
    "dyf_resolveChoice = dyf_dropfields_rf.resolveChoice(specs = [('cust_id','cast:String')])"
   ]
  },
  {
   "cell_type": "code",
   "execution_count": 47,
   "metadata": {},
   "outputs": [
    {
     "data": {
      "application/vnd.jupyter.widget-view+json": {
       "model_id": "",
       "version_major": 2,
       "version_minor": 0
      },
      "text/plain": [
       "FloatProgress(value=0.0, bar_style='info', description='Progress:', layout=Layout(height='25px', width='50%'),…"
      ]
     },
     "metadata": {},
     "output_type": "display_data"
    },
    {
     "name": "stdout",
     "output_type": "stream",
     "text": [
      "root\n",
      "|-- address: string\n",
      "|-- cust_id: string"
     ]
    }
   ],
   "source": [
    "dyf_resolveChoice.printSchema()"
   ]
  },
  {
   "cell_type": "markdown",
   "metadata": {},
   "source": [
    "### Dataset 3"
   ]
  },
  {
   "cell_type": "code",
   "execution_count": 48,
   "metadata": {},
   "outputs": [
    {
     "data": {
      "application/vnd.jupyter.widget-view+json": {
       "model_id": "",
       "version_major": 2,
       "version_minor": 0
      },
      "text/plain": [
       "FloatProgress(value=0.0, bar_style='info', description='Progress:', layout=Layout(height='25px', width='50%'),…"
      ]
     },
     "metadata": {},
     "output_type": "display_data"
    }
   ],
   "source": [
    "warehouse_inventory_list = [\n",
    "              ['TX_WAREHOUSE', '{\\\n",
    "                          \"strawberry\":\"220\",\\\n",
    "                          \"pineapple\":\"560\",\\\n",
    "                          \"mango\":\"350\",\\\n",
    "                          \"pears\":null}'\n",
    "              ],\n",
    "              ['CA_WAREHOUSE', '{\\\n",
    "                         \"strawberry\":\"34\",\\\n",
    "                         \"pineapple\":\"123\",\\\n",
    "                         \"mango\":\"42\",\\\n",
    "                         \"pears\":null}'\n",
    "              ],\n",
    "              ['CO_WAREHOUSE', '{\\\n",
    "                         \"strawberry\":\"340\",\\\n",
    "                         \"pineapple\":\"180\",\\\n",
    "                         \"mango\":\"2\",\\\n",
    "                         \"pears\":null}'\n",
    "              ]\n",
    "            ]"
   ]
  },
  {
   "cell_type": "code",
   "execution_count": 49,
   "metadata": {},
   "outputs": [
    {
     "data": {
      "application/vnd.jupyter.widget-view+json": {
       "model_id": "",
       "version_major": 2,
       "version_minor": 0
      },
      "text/plain": [
       "FloatProgress(value=0.0, bar_style='info', description='Progress:', layout=Layout(height='25px', width='50%'),…"
      ]
     },
     "metadata": {},
     "output_type": "display_data"
    }
   ],
   "source": [
    "warehouse_schema = StructType([StructField(\"warehouse_loc\", StringType()),\n",
    "                              StructField(\"data\", StringType())])"
   ]
  },
  {
   "cell_type": "code",
   "execution_count": 50,
   "metadata": {},
   "outputs": [
    {
     "data": {
      "application/vnd.jupyter.widget-view+json": {
       "model_id": "",
       "version_major": 2,
       "version_minor": 0
      },
      "text/plain": [
       "FloatProgress(value=0.0, bar_style='info', description='Progress:', layout=Layout(height='25px', width='50%'),…"
      ]
     },
     "metadata": {},
     "output_type": "display_data"
    }
   ],
   "source": [
    "df_warehouse = spark.createDataFrame(warehouse_inventory_list, schema=warehouse_schema)"
   ]
  },
  {
   "cell_type": "code",
   "execution_count": 51,
   "metadata": {},
   "outputs": [
    {
     "data": {
      "application/vnd.jupyter.widget-view+json": {
       "model_id": "",
       "version_major": 2,
       "version_minor": 0
      },
      "text/plain": [
       "FloatProgress(value=0.0, bar_style='info', description='Progress:', layout=Layout(height='25px', width='50%'),…"
      ]
     },
     "metadata": {},
     "output_type": "display_data"
    }
   ],
   "source": [
    "dyf_warehouse = DynamicFrame.fromDF(df_warehouse, glueContext, \"dyf_warehouse\")"
   ]
  },
  {
   "cell_type": "code",
   "execution_count": 52,
   "metadata": {},
   "outputs": [
    {
     "data": {
      "application/vnd.jupyter.widget-view+json": {
       "model_id": "",
       "version_major": 2,
       "version_minor": 0
      },
      "text/plain": [
       "FloatProgress(value=0.0, bar_style='info', description='Progress:', layout=Layout(height='25px', width='50%'),…"
      ]
     },
     "metadata": {},
     "output_type": "display_data"
    },
    {
     "name": "stdout",
     "output_type": "stream",
     "text": [
      "root\n",
      "|-- warehouse_loc: string\n",
      "|-- data: string"
     ]
    }
   ],
   "source": [
    "dyf_warehouse.printSchema()"
   ]
  },
  {
   "cell_type": "markdown",
   "metadata": {},
   "source": [
    "### Unbox\n",
    "\n",
    "DynamicFrame의 문자열에서 json 테이터를 추출한다. (Python의 json.loads() 함수와 비슷한 기능을 수행한다.)"
   ]
  },
  {
   "cell_type": "code",
   "execution_count": 53,
   "metadata": {},
   "outputs": [
    {
     "data": {
      "application/vnd.jupyter.widget-view+json": {
       "model_id": "",
       "version_major": 2,
       "version_minor": 0
      },
      "text/plain": [
       "FloatProgress(value=0.0, bar_style='info', description='Progress:', layout=Layout(height='25px', width='50%'),…"
      ]
     },
     "metadata": {},
     "output_type": "display_data"
    },
    {
     "name": "stdout",
     "output_type": "stream",
     "text": [
      "[{'defaultValue': None,\n",
      "  'description': 'The DynamicFrame on which to call Unbox',\n",
      "  'name': 'frame',\n",
      "  'optional': False,\n",
      "  'type': 'DynamicFrame'},\n",
      " {'defaultValue': None,\n",
      "  'description': 'full path to the StringNode to unbox',\n",
      "  'name': 'path',\n",
      "  'optional': False,\n",
      "  'type': 'String'},\n",
      " {'defaultValue': None,\n",
      "  'description': 'file format -- \"avro\" or \"json\" only',\n",
      "  'name': 'format',\n",
      "  'optional': False,\n",
      "  'type': 'String'},\n",
      " {'defaultValue': '',\n",
      "  'description': 'A unique string that is used to identify stats / state '\n",
      "                 'information',\n",
      "  'name': 'transformation_ctx',\n",
      "  'optional': True,\n",
      "  'type': 'String'},\n",
      " {'defaultValue': '\"\"',\n",
      "  'description': 'Any string to be associated with errors in the '\n",
      "                 'transformation',\n",
      "  'name': 'info',\n",
      "  'optional': True,\n",
      "  'type': 'String'},\n",
      " {'defaultValue': '0',\n",
      "  'description': 'Max number of errors in the transformation until processing '\n",
      "                 'will error out',\n",
      "  'name': 'stageThreshold',\n",
      "  'optional': True,\n",
      "  'type': 'Integer'},\n",
      " {'defaultValue': '0',\n",
      "  'description': 'Max number of errors total until processing will error out.',\n",
      "  'name': 'totalThreshold',\n",
      "  'optional': True,\n",
      "  'type': 'Integer'},\n",
      " {'defaultValue': 'None, but individual readers may have their own defaults',\n",
      "  'description': 'separator token',\n",
      "  'name': 'separator',\n",
      "  'optional': True,\n",
      "  'type': 'String'},\n",
      " {'defaultValue': 'None, but individual readers may have their own defaults',\n",
      "  'description': 'escape token',\n",
      "  'name': 'escaper',\n",
      "  'optional': True,\n",
      "  'type': 'String'},\n",
      " {'defaultValue': 'None, but individual readers may have their own defaults',\n",
      "  'description': 'whether to skip the first line of data',\n",
      "  'name': 'skipFirst',\n",
      "  'optional': True,\n",
      "  'type': 'Boolean'},\n",
      " {'defaultValue': 'None, but individual readers may have their own defaults',\n",
      "  'description': 'schema for data to unbox, should always be created by using '\n",
      "                 'StructType.json()',\n",
      "  'name': 'withSchema',\n",
      "  'optional': True,\n",
      "  'type': 'String'},\n",
      " {'defaultValue': 'None, but individual readers may have their own defaults',\n",
      "  'description': 'whether data being unpacked includes a header',\n",
      "  'name': 'withHeader',\n",
      "  'optional': True,\n",
      "  'type': 'Boolean'}]"
     ]
    }
   ],
   "source": [
    "import pprint\n",
    "\n",
    "pprint.pprint(Unbox.describeArgs())"
   ]
  },
  {
   "cell_type": "code",
   "execution_count": 54,
   "metadata": {},
   "outputs": [
    {
     "data": {
      "application/vnd.jupyter.widget-view+json": {
       "model_id": "",
       "version_major": 2,
       "version_minor": 0
      },
      "text/plain": [
       "FloatProgress(value=0.0, bar_style='info', description='Progress:', layout=Layout(height='25px', width='50%'),…"
      ]
     },
     "metadata": {},
     "output_type": "display_data"
    }
   ],
   "source": [
    "dyf_unbox = Unbox.apply(frame=dyf_warehouse, path=\"data\", format=\"json\")"
   ]
  },
  {
   "cell_type": "code",
   "execution_count": 55,
   "metadata": {},
   "outputs": [
    {
     "data": {
      "application/vnd.jupyter.widget-view+json": {
       "model_id": "",
       "version_major": 2,
       "version_minor": 0
      },
      "text/plain": [
       "FloatProgress(value=0.0, bar_style='info', description='Progress:', layout=Layout(height='25px', width='50%'),…"
      ]
     },
     "metadata": {},
     "output_type": "display_data"
    },
    {
     "name": "stdout",
     "output_type": "stream",
     "text": [
      "root\n",
      "|-- warehouse_loc: string\n",
      "|-- data: struct\n",
      "|    |-- strawberry: string\n",
      "|    |-- pineapple: string\n",
      "|    |-- mango: string\n",
      "|    |-- pears: null"
     ]
    }
   ],
   "source": [
    "dyf_unbox.printSchema()"
   ]
  },
  {
   "cell_type": "code",
   "execution_count": 56,
   "metadata": {},
   "outputs": [
    {
     "data": {
      "application/vnd.jupyter.widget-view+json": {
       "model_id": "",
       "version_major": 2,
       "version_minor": 0
      },
      "text/plain": [
       "FloatProgress(value=0.0, bar_style='info', description='Progress:', layout=Layout(height='25px', width='50%'),…"
      ]
     },
     "metadata": {},
     "output_type": "display_data"
    },
    {
     "name": "stdout",
     "output_type": "stream",
     "text": [
      "+-------------+----------------+\n",
      "|warehouse_loc|            data|\n",
      "+-------------+----------------+\n",
      "| TX_WAREHOUSE|[220, 560, 350,]|\n",
      "| CA_WAREHOUSE|  [34, 123, 42,]|\n",
      "| CO_WAREHOUSE|  [340, 180, 2,]|\n",
      "+-------------+----------------+"
     ]
    }
   ],
   "source": [
    "dyf_unbox.toDF().show()"
   ]
  },
  {
   "cell_type": "markdown",
   "metadata": {},
   "source": [
    "### UnnestFrame\n",
    "\n",
    "DynamicFrame의 중첩을 해제하고 중첩 된 개체를 최상위 요소로 병합하고 배열 개체에 대한 join 키를 생성한다."
   ]
  },
  {
   "cell_type": "code",
   "execution_count": 57,
   "metadata": {},
   "outputs": [
    {
     "data": {
      "application/vnd.jupyter.widget-view+json": {
       "model_id": "",
       "version_major": 2,
       "version_minor": 0
      },
      "text/plain": [
       "FloatProgress(value=0.0, bar_style='info', description='Progress:', layout=Layout(height='25px', width='50%'),…"
      ]
     },
     "metadata": {},
     "output_type": "display_data"
    }
   ],
   "source": [
    "dyf_unnest = UnnestFrame.apply(frame=dyf_unbox)"
   ]
  },
  {
   "cell_type": "code",
   "execution_count": 58,
   "metadata": {},
   "outputs": [
    {
     "data": {
      "application/vnd.jupyter.widget-view+json": {
       "model_id": "",
       "version_major": 2,
       "version_minor": 0
      },
      "text/plain": [
       "FloatProgress(value=0.0, bar_style='info', description='Progress:', layout=Layout(height='25px', width='50%'),…"
      ]
     },
     "metadata": {},
     "output_type": "display_data"
    },
    {
     "name": "stdout",
     "output_type": "stream",
     "text": [
      "root\n",
      " |-- warehouse_loc: string (nullable = true)\n",
      " |-- data.strawberry: string (nullable = true)\n",
      " |-- data.pineapple: string (nullable = true)\n",
      " |-- data.mango: string (nullable = true)\n",
      " |-- data.pears: null (nullable = true)"
     ]
    }
   ],
   "source": [
    "dyf_unnest.toDF().printSchema()"
   ]
  },
  {
   "cell_type": "code",
   "execution_count": 59,
   "metadata": {},
   "outputs": [
    {
     "data": {
      "application/vnd.jupyter.widget-view+json": {
       "model_id": "",
       "version_major": 2,
       "version_minor": 0
      },
      "text/plain": [
       "FloatProgress(value=0.0, bar_style='info', description='Progress:', layout=Layout(height='25px', width='50%'),…"
      ]
     },
     "metadata": {},
     "output_type": "display_data"
    },
    {
     "name": "stdout",
     "output_type": "stream",
     "text": [
      "+-------------+---------------+--------------+----------+----------+\n",
      "|warehouse_loc|data.strawberry|data.pineapple|data.mango|data.pears|\n",
      "+-------------+---------------+--------------+----------+----------+\n",
      "| TX_WAREHOUSE|            220|           560|       350|      null|\n",
      "| CA_WAREHOUSE|             34|           123|        42|      null|\n",
      "| CO_WAREHOUSE|            340|           180|         2|      null|\n",
      "+-------------+---------------+--------------+----------+----------+"
     ]
    }
   ],
   "source": [
    "dyf_unnest.toDF().show()"
   ]
  },
  {
   "cell_type": "markdown",
   "metadata": {},
   "source": [
    "### DropNullFields\n",
    "\n",
    "DynamicFrame의 모든 레코드에서 값이 누락되거나 널(Null)인 필드를 삭제한다."
   ]
  },
  {
   "cell_type": "code",
   "execution_count": 60,
   "metadata": {},
   "outputs": [
    {
     "data": {
      "application/vnd.jupyter.widget-view+json": {
       "model_id": "",
       "version_major": 2,
       "version_minor": 0
      },
      "text/plain": [
       "FloatProgress(value=0.0, bar_style='info', description='Progress:', layout=Layout(height='25px', width='50%'),…"
      ]
     },
     "metadata": {},
     "output_type": "display_data"
    },
    {
     "name": "stdout",
     "output_type": "stream",
     "text": [
      "null_fields ['`data.pears`']"
     ]
    }
   ],
   "source": [
    "dyf_dropNullfields = DropNullFields.apply(frame=dyf_unnest)"
   ]
  },
  {
   "cell_type": "code",
   "execution_count": 61,
   "metadata": {},
   "outputs": [
    {
     "data": {
      "application/vnd.jupyter.widget-view+json": {
       "model_id": "",
       "version_major": 2,
       "version_minor": 0
      },
      "text/plain": [
       "FloatProgress(value=0.0, bar_style='info', description='Progress:', layout=Layout(height='25px', width='50%'),…"
      ]
     },
     "metadata": {},
     "output_type": "display_data"
    },
    {
     "name": "stdout",
     "output_type": "stream",
     "text": [
      "+-------------+---------------+--------------+----------+\n",
      "|warehouse_loc|data.strawberry|data.pineapple|data.mango|\n",
      "+-------------+---------------+--------------+----------+\n",
      "| TX_WAREHOUSE|            220|           560|       350|\n",
      "| CA_WAREHOUSE|             34|           123|        42|\n",
      "| CO_WAREHOUSE|            340|           180|         2|\n",
      "+-------------+---------------+--------------+----------+"
     ]
    }
   ],
   "source": [
    "dyf_dropNullfields.toDF().show()"
   ]
  },
  {
   "cell_type": "markdown",
   "metadata": {},
   "source": [
    "### SplitFields\n",
    "\n",
    "\n",
    "DynamicFrame을 지정된 필드별로 두 개의 새로운 것으로 분할한다."
   ]
  },
  {
   "cell_type": "code",
   "execution_count": 62,
   "metadata": {},
   "outputs": [
    {
     "data": {
      "application/vnd.jupyter.widget-view+json": {
       "model_id": "",
       "version_major": 2,
       "version_minor": 0
      },
      "text/plain": [
       "FloatProgress(value=0.0, bar_style='info', description='Progress:', layout=Layout(height='25px', width='50%'),…"
      ]
     },
     "metadata": {},
     "output_type": "display_data"
    }
   ],
   "source": [
    "dyf_splitFields = SplitFields.apply(frame=dyf_dropNullfields,\n",
    "                                    paths=[\"`data.strawberry`\", \"`data.pineapple`\"],\n",
    "                                    name1=\"a\", name2=\"b\")"
   ]
  },
  {
   "cell_type": "code",
   "execution_count": 63,
   "metadata": {},
   "outputs": [
    {
     "data": {
      "application/vnd.jupyter.widget-view+json": {
       "model_id": "",
       "version_major": 2,
       "version_minor": 0
      },
      "text/plain": [
       "FloatProgress(value=0.0, bar_style='info', description='Progress:', layout=Layout(height='25px', width='50%'),…"
      ]
     },
     "metadata": {},
     "output_type": "display_data"
    },
    {
     "name": "stdout",
     "output_type": "stream",
     "text": [
      "+---------------+--------------+\n",
      "|data.strawberry|data.pineapple|\n",
      "+---------------+--------------+\n",
      "|            220|           560|\n",
      "|             34|           123|\n",
      "|            340|           180|\n",
      "+---------------+--------------+"
     ]
    }
   ],
   "source": [
    "dyf_retrieve_a = SelectFromCollection.apply(dyf_splitFields, \"a\")\n",
    "dyf_retrieve_a.toDF().show()"
   ]
  },
  {
   "cell_type": "code",
   "execution_count": 64,
   "metadata": {},
   "outputs": [
    {
     "data": {
      "application/vnd.jupyter.widget-view+json": {
       "model_id": "",
       "version_major": 2,
       "version_minor": 0
      },
      "text/plain": [
       "FloatProgress(value=0.0, bar_style='info', description='Progress:', layout=Layout(height='25px', width='50%'),…"
      ]
     },
     "metadata": {},
     "output_type": "display_data"
    },
    {
     "name": "stdout",
     "output_type": "stream",
     "text": [
      "+-------------+----------+\n",
      "|warehouse_loc|data.mango|\n",
      "+-------------+----------+\n",
      "| TX_WAREHOUSE|       350|\n",
      "| CA_WAREHOUSE|        42|\n",
      "| CO_WAREHOUSE|         2|\n",
      "+-------------+----------+"
     ]
    }
   ],
   "source": [
    "dyf_retrieve_b = SelectFromCollection.apply(dyf_splitFields, \"b\")\n",
    "dyf_retrieve_b.toDF().show()"
   ]
  },
  {
   "cell_type": "markdown",
   "metadata": {},
   "source": [
    "### SplitRows\n",
    "\n",
    "\n",
    "DynamicFrame을 지정된 행으로 두 개로 분할한다."
   ]
  },
  {
   "cell_type": "code",
   "execution_count": 65,
   "metadata": {},
   "outputs": [
    {
     "data": {
      "application/vnd.jupyter.widget-view+json": {
       "model_id": "",
       "version_major": 2,
       "version_minor": 0
      },
      "text/plain": [
       "FloatProgress(value=0.0, bar_style='info', description='Progress:', layout=Layout(height='25px', width='50%'),…"
      ]
     },
     "metadata": {},
     "output_type": "display_data"
    }
   ],
   "source": [
    "dyf_splitRows = SplitRows.apply(frame=dyf_dropNullfields,\n",
    "                               comparison_dict={\"`data.pineapple`\": {\n",
    "                                   \">\": \"100\", \n",
    "                                   \"<\": \"200\"}},\n",
    "                               name1='pa_200_less',\n",
    "                               name2='pa_200_more')"
   ]
  },
  {
   "cell_type": "code",
   "execution_count": 66,
   "metadata": {},
   "outputs": [
    {
     "data": {
      "application/vnd.jupyter.widget-view+json": {
       "model_id": "",
       "version_major": 2,
       "version_minor": 0
      },
      "text/plain": [
       "FloatProgress(value=0.0, bar_style='info', description='Progress:', layout=Layout(height='25px', width='50%'),…"
      ]
     },
     "metadata": {},
     "output_type": "display_data"
    },
    {
     "name": "stdout",
     "output_type": "stream",
     "text": [
      "+-------------+---------------+--------------+----------+\n",
      "|warehouse_loc|data.strawberry|data.pineapple|data.mango|\n",
      "+-------------+---------------+--------------+----------+\n",
      "| CA_WAREHOUSE|             34|           123|        42|\n",
      "| CO_WAREHOUSE|            340|           180|         2|\n",
      "+-------------+---------------+--------------+----------+"
     ]
    }
   ],
   "source": [
    "dyf_pa_200_less = SelectFromCollection.apply(dyf_splitRows, \"pa_200_less\")\n",
    "dyf_pa_200_less.toDF().show()"
   ]
  },
  {
   "cell_type": "code",
   "execution_count": 67,
   "metadata": {},
   "outputs": [
    {
     "data": {
      "application/vnd.jupyter.widget-view+json": {
       "model_id": "",
       "version_major": 2,
       "version_minor": 0
      },
      "text/plain": [
       "FloatProgress(value=0.0, bar_style='info', description='Progress:', layout=Layout(height='25px', width='50%'),…"
      ]
     },
     "metadata": {},
     "output_type": "display_data"
    },
    {
     "name": "stdout",
     "output_type": "stream",
     "text": [
      "+-------------+---------------+--------------+----------+\n",
      "|warehouse_loc|data.strawberry|data.pineapple|data.mango|\n",
      "+-------------+---------------+--------------+----------+\n",
      "| TX_WAREHOUSE|            220|           560|       350|\n",
      "+-------------+---------------+--------------+----------+"
     ]
    }
   ],
   "source": [
    "dyf_pa_200_more = SelectFromCollection.apply(dyf_splitRows, \"pa_200_more\")\n",
    "dyf_pa_200_more.toDF().show()"
   ]
  },
  {
   "cell_type": "markdown",
   "metadata": {},
   "source": [
    "### Spigot\n",
    "\n",
    "\n",
    "Spigot을 사용하면 변환 중에 샘플 데이터 세트를 대상에 쓸 수 있다."
   ]
  },
  {
   "cell_type": "markdown",
   "metadata": {},
   "source": [
    "이 예제에서는 상위 10 개 레코드를 로컬 저장소에 기록한다."
   ]
  },
  {
   "cell_type": "code",
   "execution_count": 68,
   "metadata": {},
   "outputs": [
    {
     "data": {
      "application/vnd.jupyter.widget-view+json": {
       "model_id": "",
       "version_major": 2,
       "version_minor": 0
      },
      "text/plain": [
       "FloatProgress(value=0.0, bar_style='info', description='Progress:', layout=Layout(height='25px', width='50%'),…"
      ]
     },
     "metadata": {},
     "output_type": "display_data"
    },
    {
     "name": "stdout",
     "output_type": "stream",
     "text": [
      "[{'defaultValue': None,\n",
      "  'description': 'spigot this DynamicFrame',\n",
      "  'name': 'frame',\n",
      "  'optional': False,\n",
      "  'type': 'DynamicFrame'},\n",
      " {'defaultValue': None,\n",
      "  'description': 'file path to write spigot',\n",
      "  'name': 'path',\n",
      "  'optional': False,\n",
      "  'type': 'string'},\n",
      " {'defaultValue': None,\n",
      "  'description': 'topk -> first k records, prob -> probability of picking any '\n",
      "                 'record',\n",
      "  'name': 'options',\n",
      "  'optional': True,\n",
      "  'type': 'Json'}]"
     ]
    }
   ],
   "source": [
    "import pprint\n",
    "\n",
    "pprint.pprint(Spigot.describeArgs())"
   ]
  },
  {
   "cell_type": "code",
   "execution_count": 69,
   "metadata": {},
   "outputs": [
    {
     "data": {
      "application/vnd.jupyter.widget-view+json": {
       "model_id": "",
       "version_major": 2,
       "version_minor": 0
      },
      "text/plain": [
       "FloatProgress(value=0.0, bar_style='info', description='Progress:', layout=Layout(height='25px', width='50%'),…"
      ]
     },
     "metadata": {},
     "output_type": "display_data"
    },
    {
     "name": "stderr",
     "output_type": "stream",
     "text": [
      "An error was encountered:\n",
      "name 'basestring' is not defined\n",
      "Traceback (most recent call last):\n",
      "  File \"/home/aws-glue-libs/awsglue.zip/awsglue/transforms/transform.py\", line 24, in apply\n",
      "    return transform(*args, **kwargs)\n",
      "  File \"/home/aws-glue-libs/awsglue.zip/awsglue/transforms/field_transforms.py\", line 434, in __call__\n",
      "    return frame.spigot(path,options,transformation_ctx)\n",
      "  File \"/home/aws-glue-libs/awsglue.zip/awsglue/dynamicframe.py\", line 297, in spigot\n",
      "    return DynamicFrame(self._jdf.spigot(path, makeOptions(self._sc, options), transformation_ctx,\n",
      "  File \"/home/aws-glue-libs/awsglue.zip/awsglue/utils.py\", line 24, in makeOptions\n",
      "    elif isinstance(py_obj, basestring):\n",
      "NameError: name 'basestring' is not defined\n",
      "\n"
     ]
    }
   ],
   "source": [
    "dyf_splitFields = Spigot.apply(dyf_pa_200_less, '/home/glue/GlueLocalOutput/Spigot/', 'top10')"
   ]
  },
  {
   "cell_type": "markdown",
   "metadata": {},
   "source": [
    "⚠️ 로컬 환경 구성에 따라 Spigot에 오류가 발생할 수 있다. AWS Glue 엔드 포인트 또는 AWS Glue ETL 작업을 사용하여 이 함수를 실행할 수 있다."
   ]
  },
  {
   "cell_type": "markdown",
   "metadata": {},
   "source": [
    "### Write Dynamic Frame\n",
    "\n",
    "\n",
    "`write_dynamic_frame` 함수는 지정된 연결 및 형식을 사용하여 DynamicFrame을 저장한다. 이 예제에서는 로컬 스토리지에 저장한다.(`connection_options`에서 POSIX 경로 인수와 함께 `S3`의 `connection_type`을 사용하여 로컬 스토리지에 쓸 수 있다).\n",
    "\n",
    "<b>참고</b>: \n",
    "__[DynamicFrameWriter](https://docs.aws.amazon.com/glue/latest/dg/aws-glue-api-crawler-pyspark-extensions-dynamic-frame-writer.html#aws-glue-api-crawler-pyspark-extensions-dynamic-frame-writer-from_options)__"
   ]
  },
  {
   "cell_type": "code",
   "execution_count": 70,
   "metadata": {},
   "outputs": [
    {
     "data": {
      "application/vnd.jupyter.widget-view+json": {
       "model_id": "",
       "version_major": 2,
       "version_minor": 0
      },
      "text/plain": [
       "FloatProgress(value=0.0, bar_style='info', description='Progress:', layout=Layout(height='25px', width='50%'),…"
      ]
     },
     "metadata": {},
     "output_type": "display_data"
    },
    {
     "name": "stdout",
     "output_type": "stream",
     "text": [
      "<awsglue.dynamicframe.DynamicFrameCollection object at 0x7f33c4fb05c0>"
     ]
    }
   ],
   "source": [
    "glueContext.write_dynamic_frame.from_options(frame=dyf_splitFields,\n",
    "                                             connection_options={'path': '/home/glue/GlueLocalOutput/'},\n",
    "                                             connection_type='s3',\n",
    "                                             format='json')"
   ]
  },
  {
   "cell_type": "markdown",
   "metadata": {},
   "source": [
    "### Reference\n",
    "\n",
    "- __[Building an AWS Glue ETL pipeline locally without an AWS account](\n",
    "https://aws.amazon.com/ko/blogs/big-data/building-an-aws-glue-etl-pipeline-locally-without-an-aws-account/)__\n",
    "- __[Developing AWS Glue ETL jobs locally using a container](https://aws.amazon.com/ko/blogs/big-data/developing-aws-glue-etl-jobs-locally-using-a-container/)__"
   ]
  }
 ],
 "metadata": {
  "kernelspec": {
   "display_name": "PySpark",
   "language": "",
   "name": "pysparkkernel"
  },
  "language_info": {
   "codemirror_mode": {
    "name": "python",
    "version": 3
   },
   "mimetype": "text/x-python",
   "name": "pyspark",
   "pygments_lexer": "python3"
  }
 },
 "nbformat": 4,
 "nbformat_minor": 4
}
